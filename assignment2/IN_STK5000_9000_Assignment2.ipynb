{
  "nbformat": 4,
  "nbformat_minor": 0,
  "metadata": {
    "kernelspec": {
      "display_name": "Python 3 (ipykernel)",
      "language": "python",
      "name": "python3"
    },
    "language_info": {
      "codemirror_mode": {
        "name": "ipython",
        "version": 3
      },
      "file_extension": ".py",
      "mimetype": "text/x-python",
      "name": "python",
      "nbconvert_exporter": "python",
      "pygments_lexer": "ipython3",
      "version": "3.9.1"
    },
    "colab": {
      "name": "IN-STK5000/9000-Assignment2.ipynb",
      "provenance": [],
      "collapsed_sections": [
        "abmmbzdbUnTT",
        "kHqTlys-UnTW",
        "VeM2x8E2UnTY"
      ],
      "include_colab_link": true
    }
  },
  "cells": [
    {
      "cell_type": "markdown",
      "metadata": {
        "id": "view-in-github",
        "colab_type": "text"
      },
      "source": [
        "<a href=\"https://colab.research.google.com/github/fabiorodp/IN5550_Neural_Methods_in_Natural_Language_Processing/blob/main/assignment2/IN_STK5000_9000_Assignment2.ipynb\" target=\"_parent\"><img src=\"https://colab.research.google.com/assets/colab-badge.svg\" alt=\"Open In Colab\"/></a>"
      ]
    },
    {
      "cell_type": "markdown",
      "metadata": {
        "id": "I4snnwbmU6yv"
      },
      "source": [
        "# **Assignment 2 - IN-STK5000/9000 - Autumn21**\n",
        "\n",
        "**Students**: \n",
        "- Fábio Rodrigues Pereira\n",
        "- Nicholas Walker\n",
        "- Aurora Poggi\n",
        "\n",
        "**Data**: \n",
        "- Ionosphere\n",
        "- URL for description: https://archive.ics.uci.edu/ml/datasets/ionosphere\n",
        "- URL for data: https://archive.ics.uci.edu/ml/machine-learning-databases/ionosphere/ionosphere.data\n",
        "- URL for names: https://archive.ics.uci.edu/ml/machine-learning-databases/ionosphere/ionosphere.names\n",
        "\n",
        "**Task type**:\n",
        "- Binary Classification\n",
        "\n"
      ]
    },
    {
      "cell_type": "markdown",
      "metadata": {
        "id": "6NMKrwOrUnTO"
      },
      "source": [
        "# Tasks\n",
        "In this file, we will set up a pipeline for\n",
        "1. Collecting data for an experiment **(DONE)**\n",
        "2. Processing the data **(DONE)**\n",
        "3. Running a machine learning algorithm **(DONE)**\n",
        "4. Evaluating the algorithm **(DONE)**\n",
        "5. Choosing the best algorithm and hyperparameters **(DONE)**\n",
        "\n",
        "The main questions we need to answer are\n",
        "1. How will data be collected?\n",
        "2. How much data would we need? **(2x224 samples was enough to achieve 97% of accuracy)**\n",
        "3. What algorithm would be best? **(rf)**\n",
        "4. How would the amount of data influence algorithm selection? **(yes, oversampling the minority class up to the same qtd of the other class (balanced classes distribution) increased the accuracy from 93 to 97%)**\n",
        "5. How robust is our procedure to assumptions?"
      ]
    },
    {
      "cell_type": "markdown",
      "metadata": {
        "id": "3I7yAifwWSRL"
      },
      "source": [
        "## Dependencies"
      ]
    },
    {
      "cell_type": "code",
      "metadata": {
        "colab": {
          "base_uri": "https://localhost:8080/"
        },
        "id": "8J0S2LodUnTK",
        "outputId": "f8fc9c0e-a698-4533-d53f-c9a4ee6e2e52"
      },
      "source": [
        "!pip install pipelinehelper\n",
        "from sklearn.preprocessing import StandardScaler, MaxAbsScaler, MinMaxScaler\n",
        "from sklearn.model_selection import GridSearchCV, RandomizedSearchCV\n",
        "from sklearn.ensemble import RandomForestClassifier\n",
        "from sklearn.linear_model import LogisticRegression\n",
        "from pipelinehelper import PipelineHelper\n",
        "from sklearn.pipeline import Pipeline\n",
        "from sklearn.utils import resample\n",
        "import matplotlib.pyplot as plt\n",
        "import seaborn as sns\n",
        "import pandas as pd\n",
        "import numpy as np\n",
        "seed = 1\n",
        "n_jobs = -1\n",
        "\n",
        "import numpy as np\n",
        "import abc\n",
        "import scipy.stats\n",
        "\n",
        "# This is a base class for generating classification problems\n",
        "class BaseClassificationGenerator:\n",
        "    @abc.abstractmethod\n",
        "    ## generate n_points (x,y) pairs\n",
        "    def generate(self, n_points):\n",
        "        pass\n",
        "    ## generate an (x,y) at x.\n",
        "    def generate_at_point(self, x):\n",
        "        pass\n",
        "\n",
        "# Generates data where $X|Y=i~Normal(\\mu_i, \\Sigma_i)$\n",
        "class GaussianClassificationGenerator(BaseClassificationGenerator):\n",
        "    # Initialise the class centers\n",
        "    def __init__(self, n_dimensions, class_proportions):\n",
        "        self.n_dimensions = n_dimensions\n",
        "        self.class_proportions = class_proportions\n",
        "        self.n_classes = class_proportions.shape[0]\n",
        "        self.means = np.zeros([self.n_classes, self.n_dimensions])\n",
        "        self.covariances = np.zeros([self.n_classes, self.n_dimensions, self.n_dimensions])\n",
        "        # Generate means   $\\mu_i \\sim Uniform([0,1]^n)$\n",
        "        # and covariances  $\\Sigma_i \\sim Gamma(1)$\n",
        "        for i in range(self.n_classes):\n",
        "            self.means[i] = np.random.uniform(size=self.n_dimensions)\n",
        "            self.covariances[i] = scipy.stats.wishart.rvs(self.n_dimensions, np.identity(self.n_dimensions))\n",
        "    # generate data\n",
        "    def generate(self, n_points):\n",
        "        Y = np.random.choice(self.n_classes, p=self.class_proportions, size=n_points)\n",
        "        X = np.zeros([n_points, self.n_dimensions])\n",
        "        for t in range(n_points):\n",
        "            X[t]= np.random.multivariate_normal(self.means[Y[t]], self.covariances[Y[t]])\n",
        "        return [X, Y]"
      ],
      "execution_count": null,
      "outputs": [
        {
          "output_type": "stream",
          "name": "stdout",
          "text": [
            "Requirement already satisfied: pipelinehelper in /usr/local/lib/python3.7/dist-packages (0.7.8)\n",
            "Requirement already satisfied: sklearn in /usr/local/lib/python3.7/dist-packages (from pipelinehelper) (0.0)\n",
            "Requirement already satisfied: scikit-learn in /usr/local/lib/python3.7/dist-packages (from sklearn->pipelinehelper) (0.22.2.post1)\n",
            "Requirement already satisfied: numpy>=1.11.0 in /usr/local/lib/python3.7/dist-packages (from scikit-learn->sklearn->pipelinehelper) (1.19.5)\n",
            "Requirement already satisfied: scipy>=0.17.0 in /usr/local/lib/python3.7/dist-packages (from scikit-learn->sklearn->pipelinehelper) (1.4.1)\n",
            "Requirement already satisfied: joblib>=0.11 in /usr/local/lib/python3.7/dist-packages (from scikit-learn->sklearn->pipelinehelper) (1.0.1)\n"
          ]
        }
      ]
    },
    {
      "cell_type": "markdown",
      "metadata": {
        "id": "x_HF53FxCWuJ"
      },
      "source": [
        "## Importing data"
      ]
    },
    {
      "cell_type": "code",
      "metadata": {
        "id": "e9pa3g5yXZZ0"
      },
      "source": [
        "# importing data\n",
        "df = pd.read_csv(\"https://archive.ics.uci.edu/ml/machine-learning-databases/ionosphere/ionosphere.data\")"
      ],
      "execution_count": null,
      "outputs": []
    },
    {
      "cell_type": "markdown",
      "metadata": {
        "id": "mOb_ao9WCa2X"
      },
      "source": [
        "## Dealing with raw data and resampling"
      ]
    },
    {
      "cell_type": "code",
      "metadata": {
        "colab": {
          "base_uri": "https://localhost:8080/"
        },
        "id": "xUTsv8hKXfcu",
        "outputId": "69247766-7a2a-4f45-f152-648729799b9b"
      },
      "source": [
        "# checking if there are only 2 labels\n",
        "df.g.unique()"
      ],
      "execution_count": null,
      "outputs": [
        {
          "output_type": "execute_result",
          "data": {
            "text/plain": [
              "array(['b', 'g'], dtype=object)"
            ]
          },
          "metadata": {},
          "execution_count": 16
        }
      ]
    },
    {
      "cell_type": "code",
      "metadata": {
        "colab": {
          "base_uri": "https://localhost:8080/"
        },
        "id": "4c5VPdcXf3bh",
        "outputId": "694ef724-d211-493f-d645-61d05b099a9b"
      },
      "source": [
        "# converting to binary values 0 and 1\n",
        "df.g = df.g.apply(lambda x: 0 if x=='b' else 1)\n",
        "\n",
        "# checking the balance between classes\n",
        "df.g.value_counts()  # unbalanced"
      ],
      "execution_count": null,
      "outputs": [
        {
          "output_type": "execute_result",
          "data": {
            "text/plain": [
              "1    224\n",
              "0    126\n",
              "Name: g, dtype: int64"
            ]
          },
          "metadata": {},
          "execution_count": 17
        }
      ]
    },
    {
      "cell_type": "code",
      "metadata": {
        "colab": {
          "base_uri": "https://localhost:8080/"
        },
        "id": "orx0l0gTkWZa",
        "outputId": "72f1cec9-13f0-4e71-e7ae-fe319510113c"
      },
      "source": [
        "# balancing classes\n",
        "# oversampling data for minority class from 126 to 224\n",
        "df_minority = resample(\n",
        "    df[df.g == 0], \n",
        "    replace=True, \n",
        "    n_samples=224, \n",
        "    random_state=seed, \n",
        "    stratify=None\n",
        ")\n",
        "\n",
        "# putting both together\n",
        "df_resampled = pd.concat([df_minority, df[df.g == 1]])\n",
        "del df_minority\n",
        "\n",
        "# checking the balance between classes\n",
        "df_resampled.g.value_counts()  # balanced"
      ],
      "execution_count": null,
      "outputs": [
        {
          "output_type": "execute_result",
          "data": {
            "text/plain": [
              "1    224\n",
              "0    224\n",
              "Name: g, dtype: int64"
            ]
          },
          "metadata": {},
          "execution_count": 18
        }
      ]
    },
    {
      "cell_type": "code",
      "metadata": {
        "id": "aEoDclBoRymr"
      },
      "source": [
        "total = df.g.value_counts()[0] + df.g.value_counts()[1]\n",
        "generator = GaussianClassificationGenerator(34, np.array([df.g.value_counts()[0]/total, df.g.value_counts()[1]/total]))\n",
        "df_artificial = generator.generate(500)"
      ],
      "execution_count": null,
      "outputs": []
    },
    {
      "cell_type": "code",
      "metadata": {
        "id": "osQYhjoYhhSP"
      },
      "source": [
        "# splitting features and classes\n",
        "X = df.iloc[:, :-1]\n",
        "Y = df.g\n",
        "\n",
        "X_resampled = df_resampled.iloc[:, :-1]\n",
        "Y_resampled = df_resampled.g\n",
        "del df, df_resampled"
      ],
      "execution_count": null,
      "outputs": []
    },
    {
      "cell_type": "code",
      "metadata": {
        "id": "bp54oE5TUZUi"
      },
      "source": [
        "X_artificial = df_artificial[0]\n",
        "Y_artificial = df_artificial[1]\n",
        "del df_artificial"
      ],
      "execution_count": null,
      "outputs": []
    },
    {
      "cell_type": "markdown",
      "metadata": {
        "id": "R5xM0UsZCkbV"
      },
      "source": [
        "## Creating pipelines"
      ]
    },
    {
      "cell_type": "code",
      "metadata": {
        "id": "_nIuGBNPvYLz"
      },
      "source": [
        "# creating pipeline among pre-processings and classifiers\n",
        "pipe = Pipeline([\n",
        "    ('scaler', PipelineHelper([\n",
        "        ('std', StandardScaler()),\n",
        "        ('maxabs', MaxAbsScaler()),\n",
        "        ('minmax', MinMaxScaler()),\n",
        "    ])),\n",
        "    ('classifier', PipelineHelper([\n",
        "        ('lr', LogisticRegression(solver='saga', random_state=seed, n_jobs=n_jobs)),\n",
        "        ('rf', RandomForestClassifier(random_state=seed, n_jobs=n_jobs)),\n",
        "    ])),\n",
        "])\n",
        "\n",
        "params = {\n",
        "    'scaler__selected_model': pipe.named_steps['scaler'].generate({\n",
        "        'std__with_mean': [True, False],\n",
        "        'std__with_std': [True, False],\n",
        "        'maxabs__copy': [True],\n",
        "        'minmax__copy': [True],\n",
        "    }),\n",
        "    'classifier__selected_model': pipe.named_steps['classifier'].generate({\n",
        "        'lr__penalty': ['l1', 'l2'],\n",
        "        'lr__max_iter': [100, 300, 500],\n",
        "        'rf__n_estimators': [100, 300, 500],\n",
        "        'rf__criterion': ['gini', 'entropy'],\n",
        "        'rf__bootstrap': [True, False]\n",
        "    })\n",
        "}"
      ],
      "execution_count": null,
      "outputs": []
    },
    {
      "cell_type": "markdown",
      "metadata": {
        "id": "NAXgdboKCsF2"
      },
      "source": [
        "## Creating random grid search with cross validation"
      ]
    },
    {
      "cell_type": "code",
      "metadata": {
        "colab": {
          "base_uri": "https://localhost:8080/"
        },
        "id": "9Qbcd_C-n9vr",
        "outputId": "cdb716bf-9b4e-4c9d-f2f5-c5b672bf2c9b"
      },
      "source": [
        "rgs = RandomizedSearchCV(\n",
        "    estimator=pipe,\n",
        "    param_distributions=params, \n",
        "    n_iter=100,\n",
        "    scoring='accuracy', \n",
        "    n_jobs=n_jobs, \n",
        "    refit=True, \n",
        "    cv=10,\n",
        "    random_state=seed\n",
        ")\n",
        "\n",
        "rgs.fit(X, Y)  # using unbalanced classes\n",
        "print(rgs.best_params_)\n",
        "print(rgs.best_score_)"
      ],
      "execution_count": null,
      "outputs": [
        {
          "output_type": "stream",
          "name": "stdout",
          "text": [
            "{'scaler__selected_model': ('minmax', {'copy': True}), 'classifier__selected_model': ('rf', {'bootstrap': False, 'criterion': 'gini', 'n_estimators': 500})}\n",
            "0.9371428571428572\n"
          ]
        }
      ]
    },
    {
      "cell_type": "code",
      "metadata": {
        "colab": {
          "base_uri": "https://localhost:8080/"
        },
        "id": "lN3-04l2Nq2o",
        "outputId": "c96ff71f-92bb-41be-cd7d-98c453e0a1ad"
      },
      "source": [
        "rgs1 = RandomizedSearchCV(\n",
        "    estimator=pipe,\n",
        "    param_distributions=params, \n",
        "    n_iter=100,\n",
        "    scoring='accuracy', \n",
        "    n_jobs=n_jobs, \n",
        "    refit=True, \n",
        "    cv=10,\n",
        "    random_state=seed\n",
        ")\n",
        "\n",
        "rgs1.fit(X_resampled, Y_resampled)  # using balanced classes\n",
        "print(rgs1.best_params_)\n",
        "print(rgs1.best_score_)"
      ],
      "execution_count": null,
      "outputs": [
        {
          "output_type": "stream",
          "name": "stdout",
          "text": [
            "{'scaler__selected_model': ('std', {'with_mean': True, 'with_std': False}), 'classifier__selected_model': ('rf', {'bootstrap': False, 'criterion': 'gini', 'n_estimators': 100})}\n",
            "0.9798989898989898\n"
          ]
        }
      ]
    },
    {
      "cell_type": "code",
      "metadata": {
        "colab": {
          "base_uri": "https://localhost:8080/"
        },
        "id": "2YBOhKgXU56Q",
        "outputId": "a6e02bab-19b8-471e-e700-f223be6bea97"
      },
      "source": [
        "rgs2 = RandomizedSearchCV(\n",
        "    estimator=pipe,\n",
        "    param_distributions=params, \n",
        "    n_iter=100,\n",
        "    scoring='accuracy', \n",
        "    n_jobs=n_jobs, \n",
        "    refit=True, \n",
        "    cv=10,\n",
        "    random_state=seed\n",
        ")\n",
        "\n",
        "rgs2.fit(X_artificial, Y_artificial)  # using artificial classes\n",
        "print(rgs2.best_params_)\n",
        "print(rgs2.best_score_)"
      ],
      "execution_count": null,
      "outputs": [
        {
          "output_type": "stream",
          "name": "stdout",
          "text": [
            "{'scaler__selected_model': ('minmax', {'copy': True}), 'classifier__selected_model': ('rf', {'bootstrap': False, 'criterion': 'gini', 'n_estimators': 500})}\n",
            "0.8520000000000001\n"
          ]
        }
      ]
    },
    {
      "cell_type": "markdown",
      "metadata": {
        "id": "my3T6GvMC2Zn"
      },
      "source": [
        "## Evaluating results"
      ]
    },
    {
      "cell_type": "code",
      "metadata": {
        "colab": {
          "base_uri": "https://localhost:8080/",
          "height": 1000
        },
        "id": "QJnXF69F1L3e",
        "outputId": "a5f90ad9-b307-44cd-d47a-2b3bf1925ace"
      },
      "source": [
        "# for unbalanced data\n",
        "# taking only some importante dimensions for evaluation\n",
        "# sorting mean test scores in decending fashion\n",
        "\n",
        "rts = pd.DataFrame(rgs.cv_results_)[['mean_test_score', 'param_scaler__selected_model', 'param_classifier__selected_model']]\n",
        "rts = rts.sort_values('mean_test_score', ascending=False)\n",
        "rts.head(50)"
      ],
      "execution_count": null,
      "outputs": [
        {
          "output_type": "execute_result",
          "data": {
            "text/html": [
              "<div>\n",
              "<style scoped>\n",
              "    .dataframe tbody tr th:only-of-type {\n",
              "        vertical-align: middle;\n",
              "    }\n",
              "\n",
              "    .dataframe tbody tr th {\n",
              "        vertical-align: top;\n",
              "    }\n",
              "\n",
              "    .dataframe thead th {\n",
              "        text-align: right;\n",
              "    }\n",
              "</style>\n",
              "<table border=\"1\" class=\"dataframe\">\n",
              "  <thead>\n",
              "    <tr style=\"text-align: right;\">\n",
              "      <th></th>\n",
              "      <th>mean_test_score</th>\n",
              "      <th>param_scaler__selected_model</th>\n",
              "      <th>param_classifier__selected_model</th>\n",
              "    </tr>\n",
              "  </thead>\n",
              "  <tbody>\n",
              "    <tr>\n",
              "      <th>44</th>\n",
              "      <td>0.937143</td>\n",
              "      <td>(std, {'with_mean': True, 'with_std': False})</td>\n",
              "      <td>(rf, {'bootstrap': False, 'criterion': 'gini',...</td>\n",
              "    </tr>\n",
              "    <tr>\n",
              "      <th>90</th>\n",
              "      <td>0.937143</td>\n",
              "      <td>(std, {'with_mean': True, 'with_std': True})</td>\n",
              "      <td>(rf, {'bootstrap': False, 'criterion': 'gini',...</td>\n",
              "    </tr>\n",
              "    <tr>\n",
              "      <th>3</th>\n",
              "      <td>0.937143</td>\n",
              "      <td>(minmax, {'copy': True})</td>\n",
              "      <td>(rf, {'bootstrap': False, 'criterion': 'gini',...</td>\n",
              "    </tr>\n",
              "    <tr>\n",
              "      <th>6</th>\n",
              "      <td>0.937143</td>\n",
              "      <td>(maxabs, {'copy': True})</td>\n",
              "      <td>(rf, {'bootstrap': False, 'criterion': 'gini',...</td>\n",
              "    </tr>\n",
              "    <tr>\n",
              "      <th>23</th>\n",
              "      <td>0.937143</td>\n",
              "      <td>(std, {'with_mean': False, 'with_std': True})</td>\n",
              "      <td>(rf, {'bootstrap': False, 'criterion': 'gini',...</td>\n",
              "    </tr>\n",
              "    <tr>\n",
              "      <th>12</th>\n",
              "      <td>0.937143</td>\n",
              "      <td>(std, {'with_mean': False, 'with_std': False})</td>\n",
              "      <td>(rf, {'bootstrap': False, 'criterion': 'gini',...</td>\n",
              "    </tr>\n",
              "    <tr>\n",
              "      <th>46</th>\n",
              "      <td>0.934286</td>\n",
              "      <td>(std, {'with_mean': False, 'with_std': False})</td>\n",
              "      <td>(rf, {'bootstrap': False, 'criterion': 'gini',...</td>\n",
              "    </tr>\n",
              "    <tr>\n",
              "      <th>77</th>\n",
              "      <td>0.934286</td>\n",
              "      <td>(std, {'with_mean': False, 'with_std': False})</td>\n",
              "      <td>(rf, {'bootstrap': True, 'criterion': 'entropy...</td>\n",
              "    </tr>\n",
              "    <tr>\n",
              "      <th>65</th>\n",
              "      <td>0.934286</td>\n",
              "      <td>(std, {'with_mean': False, 'with_std': False})</td>\n",
              "      <td>(rf, {'bootstrap': True, 'criterion': 'entropy...</td>\n",
              "    </tr>\n",
              "    <tr>\n",
              "      <th>22</th>\n",
              "      <td>0.934286</td>\n",
              "      <td>(minmax, {'copy': True})</td>\n",
              "      <td>(rf, {'bootstrap': True, 'criterion': 'entropy...</td>\n",
              "    </tr>\n",
              "    <tr>\n",
              "      <th>63</th>\n",
              "      <td>0.934286</td>\n",
              "      <td>(std, {'with_mean': True, 'with_std': False})</td>\n",
              "      <td>(rf, {'bootstrap': True, 'criterion': 'entropy...</td>\n",
              "    </tr>\n",
              "    <tr>\n",
              "      <th>29</th>\n",
              "      <td>0.934286</td>\n",
              "      <td>(maxabs, {'copy': True})</td>\n",
              "      <td>(rf, {'bootstrap': True, 'criterion': 'entropy...</td>\n",
              "    </tr>\n",
              "    <tr>\n",
              "      <th>84</th>\n",
              "      <td>0.934286</td>\n",
              "      <td>(std, {'with_mean': False, 'with_std': True})</td>\n",
              "      <td>(rf, {'bootstrap': True, 'criterion': 'entropy...</td>\n",
              "    </tr>\n",
              "    <tr>\n",
              "      <th>37</th>\n",
              "      <td>0.934286</td>\n",
              "      <td>(std, {'with_mean': True, 'with_std': True})</td>\n",
              "      <td>(rf, {'bootstrap': True, 'criterion': 'gini', ...</td>\n",
              "    </tr>\n",
              "    <tr>\n",
              "      <th>42</th>\n",
              "      <td>0.934286</td>\n",
              "      <td>(std, {'with_mean': True, 'with_std': True})</td>\n",
              "      <td>(rf, {'bootstrap': False, 'criterion': 'gini',...</td>\n",
              "    </tr>\n",
              "    <tr>\n",
              "      <th>38</th>\n",
              "      <td>0.934286</td>\n",
              "      <td>(std, {'with_mean': False, 'with_std': True})</td>\n",
              "      <td>(rf, {'bootstrap': False, 'criterion': 'gini',...</td>\n",
              "    </tr>\n",
              "    <tr>\n",
              "      <th>31</th>\n",
              "      <td>0.934286</td>\n",
              "      <td>(std, {'with_mean': False, 'with_std': True})</td>\n",
              "      <td>(rf, {'bootstrap': True, 'criterion': 'gini', ...</td>\n",
              "    </tr>\n",
              "    <tr>\n",
              "      <th>43</th>\n",
              "      <td>0.934286</td>\n",
              "      <td>(maxabs, {'copy': True})</td>\n",
              "      <td>(rf, {'bootstrap': True, 'criterion': 'gini', ...</td>\n",
              "    </tr>\n",
              "    <tr>\n",
              "      <th>41</th>\n",
              "      <td>0.934286</td>\n",
              "      <td>(maxabs, {'copy': True})</td>\n",
              "      <td>(rf, {'bootstrap': False, 'criterion': 'gini',...</td>\n",
              "    </tr>\n",
              "    <tr>\n",
              "      <th>96</th>\n",
              "      <td>0.934286</td>\n",
              "      <td>(minmax, {'copy': True})</td>\n",
              "      <td>(rf, {'bootstrap': True, 'criterion': 'entropy...</td>\n",
              "    </tr>\n",
              "    <tr>\n",
              "      <th>10</th>\n",
              "      <td>0.934286</td>\n",
              "      <td>(maxabs, {'copy': True})</td>\n",
              "      <td>(rf, {'bootstrap': True, 'criterion': 'entropy...</td>\n",
              "    </tr>\n",
              "    <tr>\n",
              "      <th>9</th>\n",
              "      <td>0.934286</td>\n",
              "      <td>(std, {'with_mean': True, 'with_std': True})</td>\n",
              "      <td>(rf, {'bootstrap': True, 'criterion': 'entropy...</td>\n",
              "    </tr>\n",
              "    <tr>\n",
              "      <th>72</th>\n",
              "      <td>0.934286</td>\n",
              "      <td>(minmax, {'copy': True})</td>\n",
              "      <td>(rf, {'bootstrap': False, 'criterion': 'gini',...</td>\n",
              "    </tr>\n",
              "    <tr>\n",
              "      <th>7</th>\n",
              "      <td>0.934286</td>\n",
              "      <td>(std, {'with_mean': True, 'with_std': True})</td>\n",
              "      <td>(rf, {'bootstrap': True, 'criterion': 'entropy...</td>\n",
              "    </tr>\n",
              "    <tr>\n",
              "      <th>5</th>\n",
              "      <td>0.934286</td>\n",
              "      <td>(std, {'with_mean': True, 'with_std': False})</td>\n",
              "      <td>(rf, {'bootstrap': True, 'criterion': 'entropy...</td>\n",
              "    </tr>\n",
              "    <tr>\n",
              "      <th>55</th>\n",
              "      <td>0.934286</td>\n",
              "      <td>(minmax, {'copy': True})</td>\n",
              "      <td>(rf, {'bootstrap': True, 'criterion': 'gini', ...</td>\n",
              "    </tr>\n",
              "    <tr>\n",
              "      <th>39</th>\n",
              "      <td>0.934286</td>\n",
              "      <td>(std, {'with_mean': False, 'with_std': False})</td>\n",
              "      <td>(rf, {'bootstrap': True, 'criterion': 'gini', ...</td>\n",
              "    </tr>\n",
              "    <tr>\n",
              "      <th>14</th>\n",
              "      <td>0.934286</td>\n",
              "      <td>(std, {'with_mean': False, 'with_std': True})</td>\n",
              "      <td>(rf, {'bootstrap': True, 'criterion': 'entropy...</td>\n",
              "    </tr>\n",
              "    <tr>\n",
              "      <th>50</th>\n",
              "      <td>0.934286</td>\n",
              "      <td>(maxabs, {'copy': True})</td>\n",
              "      <td>(rf, {'bootstrap': False, 'criterion': 'entrop...</td>\n",
              "    </tr>\n",
              "    <tr>\n",
              "      <th>1</th>\n",
              "      <td>0.934286</td>\n",
              "      <td>(std, {'with_mean': True, 'with_std': True})</td>\n",
              "      <td>(rf, {'bootstrap': False, 'criterion': 'entrop...</td>\n",
              "    </tr>\n",
              "    <tr>\n",
              "      <th>15</th>\n",
              "      <td>0.934286</td>\n",
              "      <td>(minmax, {'copy': True})</td>\n",
              "      <td>(rf, {'bootstrap': False, 'criterion': 'entrop...</td>\n",
              "    </tr>\n",
              "    <tr>\n",
              "      <th>54</th>\n",
              "      <td>0.934286</td>\n",
              "      <td>(std, {'with_mean': True, 'with_std': False})</td>\n",
              "      <td>(rf, {'bootstrap': False, 'criterion': 'entrop...</td>\n",
              "    </tr>\n",
              "    <tr>\n",
              "      <th>2</th>\n",
              "      <td>0.934286</td>\n",
              "      <td>(std, {'with_mean': False, 'with_std': True})</td>\n",
              "      <td>(rf, {'bootstrap': False, 'criterion': 'entrop...</td>\n",
              "    </tr>\n",
              "    <tr>\n",
              "      <th>85</th>\n",
              "      <td>0.934286</td>\n",
              "      <td>(std, {'with_mean': False, 'with_std': False})</td>\n",
              "      <td>(rf, {'bootstrap': False, 'criterion': 'entrop...</td>\n",
              "    </tr>\n",
              "    <tr>\n",
              "      <th>62</th>\n",
              "      <td>0.931429</td>\n",
              "      <td>(std, {'with_mean': True, 'with_std': False})</td>\n",
              "      <td>(rf, {'bootstrap': True, 'criterion': 'gini', ...</td>\n",
              "    </tr>\n",
              "    <tr>\n",
              "      <th>59</th>\n",
              "      <td>0.931429</td>\n",
              "      <td>(maxabs, {'copy': True})</td>\n",
              "      <td>(rf, {'bootstrap': True, 'criterion': 'gini', ...</td>\n",
              "    </tr>\n",
              "    <tr>\n",
              "      <th>56</th>\n",
              "      <td>0.931429</td>\n",
              "      <td>(std, {'with_mean': False, 'with_std': False})</td>\n",
              "      <td>(rf, {'bootstrap': True, 'criterion': 'gini', ...</td>\n",
              "    </tr>\n",
              "    <tr>\n",
              "      <th>67</th>\n",
              "      <td>0.931429</td>\n",
              "      <td>(std, {'with_mean': True, 'with_std': False})</td>\n",
              "      <td>(rf, {'bootstrap': True, 'criterion': 'gini', ...</td>\n",
              "    </tr>\n",
              "    <tr>\n",
              "      <th>93</th>\n",
              "      <td>0.931429</td>\n",
              "      <td>(std, {'with_mean': False, 'with_std': True})</td>\n",
              "      <td>(rf, {'bootstrap': True, 'criterion': 'gini', ...</td>\n",
              "    </tr>\n",
              "    <tr>\n",
              "      <th>30</th>\n",
              "      <td>0.931429</td>\n",
              "      <td>(minmax, {'copy': True})</td>\n",
              "      <td>(rf, {'bootstrap': True, 'criterion': 'gini', ...</td>\n",
              "    </tr>\n",
              "    <tr>\n",
              "      <th>57</th>\n",
              "      <td>0.931429</td>\n",
              "      <td>(std, {'with_mean': False, 'with_std': False})</td>\n",
              "      <td>(rf, {'bootstrap': True, 'criterion': 'gini', ...</td>\n",
              "    </tr>\n",
              "    <tr>\n",
              "      <th>27</th>\n",
              "      <td>0.931429</td>\n",
              "      <td>(std, {'with_mean': False, 'with_std': True})</td>\n",
              "      <td>(rf, {'bootstrap': True, 'criterion': 'gini', ...</td>\n",
              "    </tr>\n",
              "    <tr>\n",
              "      <th>26</th>\n",
              "      <td>0.931429</td>\n",
              "      <td>(maxabs, {'copy': True})</td>\n",
              "      <td>(rf, {'bootstrap': True, 'criterion': 'gini', ...</td>\n",
              "    </tr>\n",
              "    <tr>\n",
              "      <th>71</th>\n",
              "      <td>0.931429</td>\n",
              "      <td>(minmax, {'copy': True})</td>\n",
              "      <td>(rf, {'bootstrap': True, 'criterion': 'gini', ...</td>\n",
              "    </tr>\n",
              "    <tr>\n",
              "      <th>8</th>\n",
              "      <td>0.931429</td>\n",
              "      <td>(std, {'with_mean': True, 'with_std': True})</td>\n",
              "      <td>(rf, {'bootstrap': True, 'criterion': 'gini', ...</td>\n",
              "    </tr>\n",
              "    <tr>\n",
              "      <th>17</th>\n",
              "      <td>0.931429</td>\n",
              "      <td>(std, {'with_mean': True, 'with_std': True})</td>\n",
              "      <td>(rf, {'bootstrap': True, 'criterion': 'gini', ...</td>\n",
              "    </tr>\n",
              "    <tr>\n",
              "      <th>34</th>\n",
              "      <td>0.931429</td>\n",
              "      <td>(std, {'with_mean': True, 'with_std': False})</td>\n",
              "      <td>(rf, {'bootstrap': False, 'criterion': 'gini',...</td>\n",
              "    </tr>\n",
              "    <tr>\n",
              "      <th>66</th>\n",
              "      <td>0.931429</td>\n",
              "      <td>(minmax, {'copy': True})</td>\n",
              "      <td>(rf, {'bootstrap': False, 'criterion': 'gini',...</td>\n",
              "    </tr>\n",
              "    <tr>\n",
              "      <th>97</th>\n",
              "      <td>0.931429</td>\n",
              "      <td>(maxabs, {'copy': True})</td>\n",
              "      <td>(rf, {'bootstrap': False, 'criterion': 'gini',...</td>\n",
              "    </tr>\n",
              "    <tr>\n",
              "      <th>45</th>\n",
              "      <td>0.931429</td>\n",
              "      <td>(std, {'with_mean': False, 'with_std': True})</td>\n",
              "      <td>(rf, {'bootstrap': False, 'criterion': 'gini',...</td>\n",
              "    </tr>\n",
              "  </tbody>\n",
              "</table>\n",
              "</div>"
            ],
            "text/plain": [
              "    mean_test_score  ...                   param_classifier__selected_model\n",
              "44         0.937143  ...  (rf, {'bootstrap': False, 'criterion': 'gini',...\n",
              "90         0.937143  ...  (rf, {'bootstrap': False, 'criterion': 'gini',...\n",
              "3          0.937143  ...  (rf, {'bootstrap': False, 'criterion': 'gini',...\n",
              "6          0.937143  ...  (rf, {'bootstrap': False, 'criterion': 'gini',...\n",
              "23         0.937143  ...  (rf, {'bootstrap': False, 'criterion': 'gini',...\n",
              "12         0.937143  ...  (rf, {'bootstrap': False, 'criterion': 'gini',...\n",
              "46         0.934286  ...  (rf, {'bootstrap': False, 'criterion': 'gini',...\n",
              "77         0.934286  ...  (rf, {'bootstrap': True, 'criterion': 'entropy...\n",
              "65         0.934286  ...  (rf, {'bootstrap': True, 'criterion': 'entropy...\n",
              "22         0.934286  ...  (rf, {'bootstrap': True, 'criterion': 'entropy...\n",
              "63         0.934286  ...  (rf, {'bootstrap': True, 'criterion': 'entropy...\n",
              "29         0.934286  ...  (rf, {'bootstrap': True, 'criterion': 'entropy...\n",
              "84         0.934286  ...  (rf, {'bootstrap': True, 'criterion': 'entropy...\n",
              "37         0.934286  ...  (rf, {'bootstrap': True, 'criterion': 'gini', ...\n",
              "42         0.934286  ...  (rf, {'bootstrap': False, 'criterion': 'gini',...\n",
              "38         0.934286  ...  (rf, {'bootstrap': False, 'criterion': 'gini',...\n",
              "31         0.934286  ...  (rf, {'bootstrap': True, 'criterion': 'gini', ...\n",
              "43         0.934286  ...  (rf, {'bootstrap': True, 'criterion': 'gini', ...\n",
              "41         0.934286  ...  (rf, {'bootstrap': False, 'criterion': 'gini',...\n",
              "96         0.934286  ...  (rf, {'bootstrap': True, 'criterion': 'entropy...\n",
              "10         0.934286  ...  (rf, {'bootstrap': True, 'criterion': 'entropy...\n",
              "9          0.934286  ...  (rf, {'bootstrap': True, 'criterion': 'entropy...\n",
              "72         0.934286  ...  (rf, {'bootstrap': False, 'criterion': 'gini',...\n",
              "7          0.934286  ...  (rf, {'bootstrap': True, 'criterion': 'entropy...\n",
              "5          0.934286  ...  (rf, {'bootstrap': True, 'criterion': 'entropy...\n",
              "55         0.934286  ...  (rf, {'bootstrap': True, 'criterion': 'gini', ...\n",
              "39         0.934286  ...  (rf, {'bootstrap': True, 'criterion': 'gini', ...\n",
              "14         0.934286  ...  (rf, {'bootstrap': True, 'criterion': 'entropy...\n",
              "50         0.934286  ...  (rf, {'bootstrap': False, 'criterion': 'entrop...\n",
              "1          0.934286  ...  (rf, {'bootstrap': False, 'criterion': 'entrop...\n",
              "15         0.934286  ...  (rf, {'bootstrap': False, 'criterion': 'entrop...\n",
              "54         0.934286  ...  (rf, {'bootstrap': False, 'criterion': 'entrop...\n",
              "2          0.934286  ...  (rf, {'bootstrap': False, 'criterion': 'entrop...\n",
              "85         0.934286  ...  (rf, {'bootstrap': False, 'criterion': 'entrop...\n",
              "62         0.931429  ...  (rf, {'bootstrap': True, 'criterion': 'gini', ...\n",
              "59         0.931429  ...  (rf, {'bootstrap': True, 'criterion': 'gini', ...\n",
              "56         0.931429  ...  (rf, {'bootstrap': True, 'criterion': 'gini', ...\n",
              "67         0.931429  ...  (rf, {'bootstrap': True, 'criterion': 'gini', ...\n",
              "93         0.931429  ...  (rf, {'bootstrap': True, 'criterion': 'gini', ...\n",
              "30         0.931429  ...  (rf, {'bootstrap': True, 'criterion': 'gini', ...\n",
              "57         0.931429  ...  (rf, {'bootstrap': True, 'criterion': 'gini', ...\n",
              "27         0.931429  ...  (rf, {'bootstrap': True, 'criterion': 'gini', ...\n",
              "26         0.931429  ...  (rf, {'bootstrap': True, 'criterion': 'gini', ...\n",
              "71         0.931429  ...  (rf, {'bootstrap': True, 'criterion': 'gini', ...\n",
              "8          0.931429  ...  (rf, {'bootstrap': True, 'criterion': 'gini', ...\n",
              "17         0.931429  ...  (rf, {'bootstrap': True, 'criterion': 'gini', ...\n",
              "34         0.931429  ...  (rf, {'bootstrap': False, 'criterion': 'gini',...\n",
              "66         0.931429  ...  (rf, {'bootstrap': False, 'criterion': 'gini',...\n",
              "97         0.931429  ...  (rf, {'bootstrap': False, 'criterion': 'gini',...\n",
              "45         0.931429  ...  (rf, {'bootstrap': False, 'criterion': 'gini',...\n",
              "\n",
              "[50 rows x 3 columns]"
            ]
          },
          "metadata": {},
          "execution_count": 30
        }
      ]
    },
    {
      "cell_type": "code",
      "metadata": {
        "colab": {
          "base_uri": "https://localhost:8080/",
          "height": 424
        },
        "id": "j7yQS9r0OCTu",
        "outputId": "ecd95b09-5376-415f-be8d-4cd794ab1893"
      },
      "source": [
        "# for balanced data\n",
        "# taking only some importante dimensions for evaluation\n",
        "# sorting mean test scores in decending fashion\n",
        "\n",
        "rts_balanced = pd.DataFrame(rgs1.cv_results_)[['mean_test_score', 'param_scaler__selected_model', 'param_classifier__selected_model']]\n",
        "rts_balanced = rts_balanced.sort_values('mean_test_score', ascending=False)\n",
        "rts_balanced"
      ],
      "execution_count": null,
      "outputs": [
        {
          "output_type": "execute_result",
          "data": {
            "text/html": [
              "<div>\n",
              "<style scoped>\n",
              "    .dataframe tbody tr th:only-of-type {\n",
              "        vertical-align: middle;\n",
              "    }\n",
              "\n",
              "    .dataframe tbody tr th {\n",
              "        vertical-align: top;\n",
              "    }\n",
              "\n",
              "    .dataframe thead th {\n",
              "        text-align: right;\n",
              "    }\n",
              "</style>\n",
              "<table border=\"1\" class=\"dataframe\">\n",
              "  <thead>\n",
              "    <tr style=\"text-align: right;\">\n",
              "      <th></th>\n",
              "      <th>mean_test_score</th>\n",
              "      <th>param_scaler__selected_model</th>\n",
              "      <th>param_classifier__selected_model</th>\n",
              "    </tr>\n",
              "  </thead>\n",
              "  <tbody>\n",
              "    <tr>\n",
              "      <th>97</th>\n",
              "      <td>0.979899</td>\n",
              "      <td>(maxabs, {'copy': True})</td>\n",
              "      <td>(rf, {'bootstrap': False, 'criterion': 'gini',...</td>\n",
              "    </tr>\n",
              "    <tr>\n",
              "      <th>34</th>\n",
              "      <td>0.979899</td>\n",
              "      <td>(std, {'with_mean': True, 'with_std': False})</td>\n",
              "      <td>(rf, {'bootstrap': False, 'criterion': 'gini',...</td>\n",
              "    </tr>\n",
              "    <tr>\n",
              "      <th>45</th>\n",
              "      <td>0.979899</td>\n",
              "      <td>(std, {'with_mean': False, 'with_std': True})</td>\n",
              "      <td>(rf, {'bootstrap': False, 'criterion': 'gini',...</td>\n",
              "    </tr>\n",
              "    <tr>\n",
              "      <th>66</th>\n",
              "      <td>0.979899</td>\n",
              "      <td>(minmax, {'copy': True})</td>\n",
              "      <td>(rf, {'bootstrap': False, 'criterion': 'gini',...</td>\n",
              "    </tr>\n",
              "    <tr>\n",
              "      <th>0</th>\n",
              "      <td>0.975455</td>\n",
              "      <td>(maxabs, {'copy': True})</td>\n",
              "      <td>(rf, {'bootstrap': False, 'criterion': 'entrop...</td>\n",
              "    </tr>\n",
              "    <tr>\n",
              "      <th>...</th>\n",
              "      <td>...</td>\n",
              "      <td>...</td>\n",
              "      <td>...</td>\n",
              "    </tr>\n",
              "    <tr>\n",
              "      <th>47</th>\n",
              "      <td>0.892929</td>\n",
              "      <td>(minmax, {'copy': True})</td>\n",
              "      <td>(lr, {'max_iter': 300, 'penalty': 'l2'})</td>\n",
              "    </tr>\n",
              "    <tr>\n",
              "      <th>89</th>\n",
              "      <td>0.892929</td>\n",
              "      <td>(minmax, {'copy': True})</td>\n",
              "      <td>(lr, {'max_iter': 100, 'penalty': 'l2'})</td>\n",
              "    </tr>\n",
              "    <tr>\n",
              "      <th>25</th>\n",
              "      <td>0.892929</td>\n",
              "      <td>(minmax, {'copy': True})</td>\n",
              "      <td>(lr, {'max_iter': 500, 'penalty': 'l2'})</td>\n",
              "    </tr>\n",
              "    <tr>\n",
              "      <th>87</th>\n",
              "      <td>0.884040</td>\n",
              "      <td>(minmax, {'copy': True})</td>\n",
              "      <td>(lr, {'max_iter': 500, 'penalty': 'l1'})</td>\n",
              "    </tr>\n",
              "    <tr>\n",
              "      <th>20</th>\n",
              "      <td>0.881818</td>\n",
              "      <td>(minmax, {'copy': True})</td>\n",
              "      <td>(lr, {'max_iter': 300, 'penalty': 'l1'})</td>\n",
              "    </tr>\n",
              "  </tbody>\n",
              "</table>\n",
              "<p>100 rows × 3 columns</p>\n",
              "</div>"
            ],
            "text/plain": [
              "    mean_test_score  ...                   param_classifier__selected_model\n",
              "97         0.979899  ...  (rf, {'bootstrap': False, 'criterion': 'gini',...\n",
              "34         0.979899  ...  (rf, {'bootstrap': False, 'criterion': 'gini',...\n",
              "45         0.979899  ...  (rf, {'bootstrap': False, 'criterion': 'gini',...\n",
              "66         0.979899  ...  (rf, {'bootstrap': False, 'criterion': 'gini',...\n",
              "0          0.975455  ...  (rf, {'bootstrap': False, 'criterion': 'entrop...\n",
              "..              ...  ...                                                ...\n",
              "47         0.892929  ...           (lr, {'max_iter': 300, 'penalty': 'l2'})\n",
              "89         0.892929  ...           (lr, {'max_iter': 100, 'penalty': 'l2'})\n",
              "25         0.892929  ...           (lr, {'max_iter': 500, 'penalty': 'l2'})\n",
              "87         0.884040  ...           (lr, {'max_iter': 500, 'penalty': 'l1'})\n",
              "20         0.881818  ...           (lr, {'max_iter': 300, 'penalty': 'l1'})\n",
              "\n",
              "[100 rows x 3 columns]"
            ]
          },
          "metadata": {},
          "execution_count": 20
        }
      ]
    },
    {
      "cell_type": "code",
      "metadata": {
        "colab": {
          "base_uri": "https://localhost:8080/",
          "height": 421
        },
        "id": "APW9gIevXaUg",
        "outputId": "59f2bb06-13af-445a-93e6-855f65ed73d1"
      },
      "source": [
        "# for artificial data\n",
        "\n",
        "rts_artificial = pd.DataFrame(rgs2.cv_results_)[['mean_test_score', 'param_scaler__selected_model', 'param_classifier__selected_model']]\n",
        "rts_artificial = rts_artificial.sort_values('mean_test_score', ascending=False)\n",
        "rts_artificial"
      ],
      "execution_count": null,
      "outputs": [
        {
          "output_type": "execute_result",
          "data": {
            "text/html": [
              "<div>\n",
              "<style scoped>\n",
              "    .dataframe tbody tr th:only-of-type {\n",
              "        vertical-align: middle;\n",
              "    }\n",
              "\n",
              "    .dataframe tbody tr th {\n",
              "        vertical-align: top;\n",
              "    }\n",
              "\n",
              "    .dataframe thead th {\n",
              "        text-align: right;\n",
              "    }\n",
              "</style>\n",
              "<table border=\"1\" class=\"dataframe\">\n",
              "  <thead>\n",
              "    <tr style=\"text-align: right;\">\n",
              "      <th></th>\n",
              "      <th>mean_test_score</th>\n",
              "      <th>param_scaler__selected_model</th>\n",
              "      <th>param_classifier__selected_model</th>\n",
              "    </tr>\n",
              "  </thead>\n",
              "  <tbody>\n",
              "    <tr>\n",
              "      <th>90</th>\n",
              "      <td>0.852</td>\n",
              "      <td>(std, {'with_mean': True, 'with_std': True})</td>\n",
              "      <td>(rf, {'bootstrap': False, 'criterion': 'gini',...</td>\n",
              "    </tr>\n",
              "    <tr>\n",
              "      <th>44</th>\n",
              "      <td>0.852</td>\n",
              "      <td>(std, {'with_mean': True, 'with_std': False})</td>\n",
              "      <td>(rf, {'bootstrap': False, 'criterion': 'gini',...</td>\n",
              "    </tr>\n",
              "    <tr>\n",
              "      <th>3</th>\n",
              "      <td>0.852</td>\n",
              "      <td>(minmax, {'copy': True})</td>\n",
              "      <td>(rf, {'bootstrap': False, 'criterion': 'gini',...</td>\n",
              "    </tr>\n",
              "    <tr>\n",
              "      <th>23</th>\n",
              "      <td>0.852</td>\n",
              "      <td>(std, {'with_mean': False, 'with_std': True})</td>\n",
              "      <td>(rf, {'bootstrap': False, 'criterion': 'gini',...</td>\n",
              "    </tr>\n",
              "    <tr>\n",
              "      <th>6</th>\n",
              "      <td>0.852</td>\n",
              "      <td>(maxabs, {'copy': True})</td>\n",
              "      <td>(rf, {'bootstrap': False, 'criterion': 'gini',...</td>\n",
              "    </tr>\n",
              "    <tr>\n",
              "      <th>...</th>\n",
              "      <td>...</td>\n",
              "      <td>...</td>\n",
              "      <td>...</td>\n",
              "    </tr>\n",
              "    <tr>\n",
              "      <th>69</th>\n",
              "      <td>0.662</td>\n",
              "      <td>(std, {'with_mean': False, 'with_std': False})</td>\n",
              "      <td>(lr, {'max_iter': 100, 'penalty': 'l1'})</td>\n",
              "    </tr>\n",
              "    <tr>\n",
              "      <th>83</th>\n",
              "      <td>0.662</td>\n",
              "      <td>(std, {'with_mean': True, 'with_std': False})</td>\n",
              "      <td>(lr, {'max_iter': 300, 'penalty': 'l1'})</td>\n",
              "    </tr>\n",
              "    <tr>\n",
              "      <th>94</th>\n",
              "      <td>0.662</td>\n",
              "      <td>(std, {'with_mean': True, 'with_std': False})</td>\n",
              "      <td>(lr, {'max_iter': 500, 'penalty': 'l1'})</td>\n",
              "    </tr>\n",
              "    <tr>\n",
              "      <th>98</th>\n",
              "      <td>0.662</td>\n",
              "      <td>(std, {'with_mean': True, 'with_std': False})</td>\n",
              "      <td>(lr, {'max_iter': 100, 'penalty': 'l1'})</td>\n",
              "    </tr>\n",
              "    <tr>\n",
              "      <th>53</th>\n",
              "      <td>0.662</td>\n",
              "      <td>(std, {'with_mean': False, 'with_std': False})</td>\n",
              "      <td>(lr, {'max_iter': 300, 'penalty': 'l1'})</td>\n",
              "    </tr>\n",
              "  </tbody>\n",
              "</table>\n",
              "<p>100 rows × 3 columns</p>\n",
              "</div>"
            ],
            "text/plain": [
              "    mean_test_score  ...                   param_classifier__selected_model\n",
              "90            0.852  ...  (rf, {'bootstrap': False, 'criterion': 'gini',...\n",
              "44            0.852  ...  (rf, {'bootstrap': False, 'criterion': 'gini',...\n",
              "3             0.852  ...  (rf, {'bootstrap': False, 'criterion': 'gini',...\n",
              "23            0.852  ...  (rf, {'bootstrap': False, 'criterion': 'gini',...\n",
              "6             0.852  ...  (rf, {'bootstrap': False, 'criterion': 'gini',...\n",
              "..              ...  ...                                                ...\n",
              "69            0.662  ...           (lr, {'max_iter': 100, 'penalty': 'l1'})\n",
              "83            0.662  ...           (lr, {'max_iter': 300, 'penalty': 'l1'})\n",
              "94            0.662  ...           (lr, {'max_iter': 500, 'penalty': 'l1'})\n",
              "98            0.662  ...           (lr, {'max_iter': 100, 'penalty': 'l1'})\n",
              "53            0.662  ...           (lr, {'max_iter': 300, 'penalty': 'l1'})\n",
              "\n",
              "[100 rows x 3 columns]"
            ]
          },
          "metadata": {},
          "execution_count": 31
        }
      ]
    }
  ]
}